{
 "cells": [
  {
   "cell_type": "code",
   "execution_count": 147,
   "metadata": {},
   "outputs": [],
   "source": [
    "import pandas as pd\n",
    "column_names = [\"f_name\", \"l_name\", \"email\" , 'phone', 'description']\n",
    "df = pd.DataFrame(columns = column_names)\n",
    "l=[]"
   ]
  },
  {
   "cell_type": "code",
   "execution_count": 63,
   "metadata": {},
   "outputs": [],
   "source": [
    "html_form='''\n",
    "    <!DOCTYPE html>\n",
    "    <html>\n",
    "        <head>\n",
    "            <title> Welcome to Evalueserve </title>\n",
    "            <style type=\"text/css\">\n",
    "                body {\n",
    "                    display: flex;\n",
    "                    flex-direction: column;\n",
    "                    align-items: center;\n",
    "                    font-family: sans-serif;\n",
    "                }\n",
    "                form {\n",
    "                    max-width: 600px;\n",
    "                }\n",
    "                form * {\n",
    "                    width: 100%;\n",
    "                }\n",
    "                form > *+* {\n",
    "                    margin-top: 20px;\n",
    "                }\n",
    "                form label {\n",
    "                    font-size: 12px;\n",
    "                    font-weight: 700;\n",
    "                    color: grey;\n",
    "                }\n",
    "                form input[type=text] {\n",
    "                    margin-top: 4px;\n",
    "                    height: 20px;\n",
    "                    border-radius: 2px;\n",
    "                    border: 1px solid grey;\n",
    "                }\n",
    "                input[type=submit] {\n",
    "                    padding: 10px 0;\n",
    "                    border-radius: 2px;\n",
    "                    color: white;\n",
    "                    background-color: #3d68ac;\n",
    "                    border: none;\n",
    "                }\n",
    "\n",
    "                input[type=submit]:hover {\n",
    "                    background-color: #264f91;\n",
    "                }            \n",
    "            </style>\n",
    "        </head>\n",
    "        <body>\n",
    "            <h1> Welcome to Evalueserve </h1>\n",
    "\n",
    "            <form method=\"post\" \n",
    "                enctype=\"multipart/form-data\">\n",
    "                <div>\n",
    "                    <label for=\"First name\">First name:</label>\n",
    "                    <input type=\"text\" id=\"First name\" name=\"f_name\">\n",
    "                </div>\n",
    "                <div>\n",
    "                    <label for=\"Last name\">Last name:</label>\n",
    "                    <input type=\"text\" id=\"Last name\" name=\"l_name\">\n",
    "                </div>\n",
    "                <div>\n",
    "                    <label for=\"Email\">Email:</label>\n",
    "                    <input type=\"text\" id=\"Email\" name=\"email\">\n",
    "                </div>\n",
    "                <div> \n",
    "                    <label for=\"Phone\">Phone:</label>\n",
    "                    <input type=\"text\" id=\"Phone\" name=\"phone\">\n",
    "                </div>\n",
    "                <div>\n",
    "                    <label for=\"Reason of visit\">Reason of visit:</label>\n",
    "                    <input type=\"text\" id=\"Reason of visit\" name=\"description\">\n",
    "                </div>\n",
    "\n",
    "                <input type=submit value=Upload>\n",
    "            </form>\n",
    "        </body>\n",
    "    </html>\n",
    "    '''"
   ]
  },
  {
   "cell_type": "code",
   "execution_count": 69,
   "metadata": {},
   "outputs": [],
   "source": [
    "# !pip install flask_mail"
   ]
  },
  {
   "cell_type": "code",
   "execution_count": 148,
   "metadata": {},
   "outputs": [
    {
     "name": "stdout",
     "output_type": "stream",
     "text": [
      " * Serving Flask app \"__main__\" (lazy loading)\n",
      " * Environment: production\n",
      "   WARNING: Do not use the development server in a production environment.\n",
      "   Use a production WSGI server instead.\n",
      " * Debug mode: off\n"
     ]
    },
    {
     "name": "stderr",
     "output_type": "stream",
     "text": [
      " * Running on http://127.0.0.1:5000/ (Press CTRL+C to quit)\n",
      "127.0.0.1 - - [03/Mar/2020 17:02:23] \"GET / HTTP/1.1\" 200 -\n",
      "127.0.0.1 - - [03/Mar/2020 17:02:59] \"POST / HTTP/1.1\" 302 -\n",
      "127.0.0.1 - - [03/Mar/2020 17:02:59] \"GET /done HTTP/1.1\" 200 -\n",
      "127.0.0.1 - - [03/Mar/2020 17:03:02] \"POST /done HTTP/1.1\" 302 -\n",
      "127.0.0.1 - - [03/Mar/2020 17:03:02] \"GET / HTTP/1.1\" 200 -\n",
      "127.0.0.1 - - [03/Mar/2020 17:04:01] \"POST / HTTP/1.1\" 302 -\n",
      "127.0.0.1 - - [03/Mar/2020 17:04:01] \"GET /done HTTP/1.1\" 200 -\n",
      "127.0.0.1 - - [03/Mar/2020 17:04:06] \"POST /done HTTP/1.1\" 302 -\n",
      "127.0.0.1 - - [03/Mar/2020 17:04:06] \"GET / HTTP/1.1\" 200 -\n"
     ]
    }
   ],
   "source": [
    "from flask import Flask, redirect, url_for, request\n",
    "from flask_mail import Mail, Message\n",
    "\n",
    "app = Flask(__name__)\n",
    "\n",
    "app.config['MAIL_SERVER'] = 'smtp.163.com'\n",
    "app.config['MAIL_PORT'] =465  #465 #587\n",
    "app.config['MAIL_USE_TLS'] =False\n",
    "app.config['MAIL_USE_SSL'] =True\n",
    "app.config['MAIL_USERNAME'] = 'ben291808475@163.com'  \n",
    "app.config['MAIL_PASSWORD'] = password\n",
    "app.config['MAIL_DEFAULT_SENDER'] = 'ben291808475@163.com'\n",
    "\n",
    "\n",
    "mail=Mail(app)\n",
    "\n",
    "\n",
    "@app.route('/', methods=['GET', 'POST'])\n",
    "def log_in():\n",
    "    if request.method == 'POST':\n",
    "        f_name = request.form['f_name']\n",
    "        l_name = request.form['l_name']\n",
    "        email = request.form['email']\n",
    "        phone = request.form['phone']\n",
    "        description = request.form['description']\n",
    "        l.append({'f_name':f_name, 'l_name': l_name,\n",
    "                  'email': email, 'phone': phone,\n",
    "                  'description': description})\n",
    "        msg= Message('New Vistor Approval', recipients= ['jianhui.ben@evalueserve.com'])\n",
    "        msg.body =  \"\"\"Hi Ben,\\n\\nThis new visitor needs approval to come in the office.\n",
    "        Here are more details:\\nFirst name: \"\"\" + f_name + \"\"\"\\nLast name: \"\"\" + l_name +\"\"\"\\nEmai\n",
    "        l: \"\"\" + email + \"\"\"\\nPhone: \"\"\" + phone + \"\"\"\\nDescription: \"\"\" + description +\"\"\"\\nPlease\n",
    "        let me know if you've approved his/her visit! Thanks\"\"\"\n",
    "        mail.send(msg)\n",
    "        return redirect(url_for('done_log'))\n",
    "    \n",
    "    return html_form\n",
    "@app.route('/done', methods=['GET', 'POST'])\n",
    "def done_log():\n",
    "    if request.method == 'POST':\n",
    "        return redirect(url_for('log_in'))\n",
    "    \n",
    "    return '''\n",
    "            <!doctype html>\n",
    "            <h1> Thanks for visiting </h1>\n",
    "            <form method=post enctype=multipart/form-data>\n",
    "                <input type=submit value=Back>\n",
    "            </form>\n",
    "            '''\n",
    "\n",
    "if __name__ == \"__main__\":\n",
    "    app.run()"
   ]
  },
  {
   "cell_type": "code",
   "execution_count": 149,
   "metadata": {},
   "outputs": [
    {
     "data": {
      "text/html": [
       "<div>\n",
       "<style scoped>\n",
       "    .dataframe tbody tr th:only-of-type {\n",
       "        vertical-align: middle;\n",
       "    }\n",
       "\n",
       "    .dataframe tbody tr th {\n",
       "        vertical-align: top;\n",
       "    }\n",
       "\n",
       "    .dataframe thead th {\n",
       "        text-align: right;\n",
       "    }\n",
       "</style>\n",
       "<table border=\"1\" class=\"dataframe\">\n",
       "  <thead>\n",
       "    <tr style=\"text-align: right;\">\n",
       "      <th></th>\n",
       "      <th>f_name</th>\n",
       "      <th>l_name</th>\n",
       "      <th>email</th>\n",
       "      <th>phone</th>\n",
       "      <th>description</th>\n",
       "    </tr>\n",
       "  </thead>\n",
       "  <tbody>\n",
       "    <tr>\n",
       "      <th>0</th>\n",
       "      <td>Jianhui</td>\n",
       "      <td>Ben</td>\n",
       "      <td>jessica.staton.duke.edu</td>\n",
       "      <td>9199376444</td>\n",
       "      <td>for fun</td>\n",
       "    </tr>\n",
       "    <tr>\n",
       "      <th>1</th>\n",
       "      <td>MK</td>\n",
       "      <td>Baby</td>\n",
       "      <td>123.gmail.com</td>\n",
       "      <td>919</td>\n",
       "      <td>having fun</td>\n",
       "    </tr>\n",
       "  </tbody>\n",
       "</table>\n",
       "</div>"
      ],
      "text/plain": [
       "    f_name l_name                    email       phone description\n",
       "0  Jianhui    Ben  jessica.staton.duke.edu  9199376444     for fun\n",
       "1       MK   Baby            123.gmail.com         919  having fun"
      ]
     },
     "execution_count": 149,
     "metadata": {},
     "output_type": "execute_result"
    }
   ],
   "source": [
    "for row in l:\n",
    "    df=df.append(row, ignore_index=True)\n",
    "df"
   ]
  },
  {
   "cell_type": "markdown",
   "metadata": {},
   "source": [
    "## Auto-email"
   ]
  },
  {
   "cell_type": "code",
   "execution_count": 53,
   "metadata": {},
   "outputs": [],
   "source": [
    "f_name='Jianhui'"
   ]
  },
  {
   "cell_type": "code",
   "execution_count": 54,
   "metadata": {},
   "outputs": [],
   "source": [
    "# !pip install pywin32\n",
    "import win32com.client\n",
    "\n",
    "##check inbox mail\n",
    "# outlook = win32com.client.Dispatch(\"Outlook.Application\").GetNamespace(\"MAPI\")\n",
    "# inbox = outlook.GetDefaultFolder(6) # \"6\" refers to the index of a folder - in this case,\n",
    "#                                     # the inbox. You can change that number to reference\n",
    "#                                     # any other folder\n",
    "# messages = inbox.Items\n",
    "# message = messages.GetLast()\n",
    "# body_content = message.body\n",
    "# print(body_content)\n",
    "\n",
    "outlook = win32com.client.Dispatch('outlook.application')\n",
    "mail = outlook.CreateItem(0)\n",
    "mail.To = 'jianhui.ben@evalueserve.com'\n",
    "mail.Subject = 'New visitor needs approval'\n",
    "mail.Body = \"\"\"Hi Ben,\\n\\nThis new visitor needs approval to come in the office.\n",
    "Here are more details:\\nFirst name: \"\"\" + f_name\n",
    "\n",
    "mail.Send()"
   ]
  },
  {
   "cell_type": "code",
   "execution_count": 87,
   "metadata": {},
   "outputs": [],
   "source": [
    "def send_email(f_name, l_name, email, phone, description):\n",
    "    outlook = win32com.client.Dispatch('outlook.application')\n",
    "    mail = outlook.CreateItem(0)\n",
    "    mail.To = 'jianhui.ben@evalueserve.com'\n",
    "    mail.Subject = 'New visitor needs approval'\n",
    "    mail.Body = \"\"\"Hi Ben,\\n\\nThis new visitor needs approval to come in the office.\n",
    "    Here are more details:\\nFirst name: \"\"\" + f_name + \"\"\"\\nLast name: \"\"\" + l_name +\"\"\"\\nEmai\n",
    "    l: \"\"\" + email + \"\"\"\\nPhone: \"\"\" + phone + \"\"\"\\nDescription: \"\"\" + description +\"\"\"\\nPlease\n",
    "    let me know if you've approved his/her visit! Thanks\"\"\"\n",
    "    mail.Send()"
   ]
  },
  {
   "cell_type": "code",
   "execution_count": null,
   "metadata": {},
   "outputs": [],
   "source": [
    "send_email('322', 'ree', 're', 'rew', 'rwe')"
   ]
  },
  {
   "cell_type": "code",
   "execution_count": null,
   "metadata": {},
   "outputs": [],
   "source": []
  },
  {
   "cell_type": "code",
   "execution_count": 145,
   "metadata": {},
   "outputs": [
    {
     "name": "stdout",
     "output_type": "stream",
     "text": [
      " * Serving Flask app \"__main__\" (lazy loading)\n",
      " * Environment: production\n",
      "   WARNING: Do not use the development server in a production environment.\n",
      "   Use a production WSGI server instead.\n",
      " * Debug mode: off\n"
     ]
    },
    {
     "name": "stderr",
     "output_type": "stream",
     "text": [
      " * Running on http://127.0.0.1:5000/ (Press CTRL+C to quit)\n",
      "127.0.0.1 - - [03/Mar/2020 16:56:22] \"GET / HTTP/1.1\" 200 -\n",
      "127.0.0.1 - - [03/Mar/2020 17:00:49] \"GET / HTTP/1.1\" 200 -\n"
     ]
    }
   ],
   "source": [
    "from flask import Flask, redirect, url_for, request\n",
    "from flask_mail import Mail, Message\n",
    "\n",
    "app = Flask(__name__)\n",
    "\n",
    "\n",
    "\n",
    "app.config['MAIL_SERVER'] = 'smtp.163.com'\n",
    "app.config['MAIL_PORT'] =465  #465 #587\n",
    "app.config['MAIL_USE_TLS'] =False\n",
    "app.config['MAIL_USE_SSL'] =True\n",
    "app.config['MAIL_USERNAME'] = 'ben291808475@163.com'\n",
    "app.config['MAIL_PASSWORD'] = password\n",
    "app.config['MAIL_DEFAULT_SENDER'] = 'ben291808475@163.com'\n",
    "\n",
    "\n",
    "\n",
    "mail=Mail(app)\n",
    "\n",
    "@app.route('/')\n",
    "def index():\n",
    "    msg = Message('Most important', recipients=['jianhui.ben@evalueserve.com'])\n",
    "    mail.send(msg)\n",
    "    return 'Message has been sent!'\n",
    "    \n",
    "\n",
    "if __name__ == \"__main__\":\n",
    "    app.run()\n",
    "    \n",
    "\n",
    "    \n",
    "\n",
    "# @app.route('/')\n",
    "# def log_in():\n",
    "#     if request.method == 'POST':\n",
    "#         f_name = request.form['f_name']\n",
    "#         l_name = request.form['l_name']\n",
    "#         email = request.form['email']\n",
    "#         phone = request.form['phone']\n",
    "#         description = request.form['description']\n",
    "#         l.append({'f_name':f_name, 'l_name': l_name,\n",
    "#                   'email': email, 'phone': phone,\n",
    "#                   'description': description})\n",
    "#         msg= Message('Hello', sender='jianhui.ben@evalueserve.com', recipients= ['jianhui.ben@evalueserve.com'])\n",
    "#         mail.send(msg)\n",
    "# #         send_email( f_name, l_name, email, phone, description)\n",
    "#         return redirect(url_for('done_log'))\n",
    "    \n",
    "#     return html_form"
   ]
  },
  {
   "cell_type": "code",
   "execution_count": 89,
   "metadata": {},
   "outputs": [],
   "source": []
  },
  {
   "cell_type": "code",
   "execution_count": 144,
   "metadata": {},
   "outputs": [],
   "source": [
    "password='83982932'"
   ]
  }
 ],
 "metadata": {
  "kernelspec": {
   "display_name": "Python 3",
   "language": "python",
   "name": "python3"
  }
 },
 "nbformat": 4,
 "nbformat_minor": 2
}
