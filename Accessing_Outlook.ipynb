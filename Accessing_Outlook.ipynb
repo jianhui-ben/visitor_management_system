{
 "cells": [
  {
   "cell_type": "code",
   "execution_count": 1,
   "metadata": {},
   "outputs": [
    {
     "name": "stdout",
     "output_type": "stream",
     "text": [
      "Requirement already satisfied: pywin32 in c:\\users\\jianhui.ben\\documents\\temp\\lib\\site-packages (223)\n"
     ]
    }
   ],
   "source": [
    "# !pip install pywin32"
   ]
  },
  {
   "cell_type": "markdown",
   "metadata": {},
   "source": [
    "### Current Problem\n",
    "- I cannot find the way to copy an email\n",
    "- I don't know about how to go back to the last email"
   ]
  },
  {
   "cell_type": "code",
   "execution_count": null,
   "metadata": {},
   "outputs": [],
   "source": []
  },
  {
   "cell_type": "code",
   "execution_count": 6,
   "metadata": {},
   "outputs": [],
   "source": [
    "#reference\n",
    "#1. \n",
    "#https://www.codementor.io/aliacetrefli/how-to-read-outlook-emails-by-python-jkp2ksk95"
   ]
  },
  {
   "cell_type": "code",
   "execution_count": 2,
   "metadata": {},
   "outputs": [],
   "source": [
    "import win32com.client"
   ]
  },
  {
   "cell_type": "code",
   "execution_count": 4,
   "metadata": {},
   "outputs": [
    {
     "name": "stdout",
     "output_type": "stream",
     "text": [
      "Hi All,\r\n",
      "\r\n",
      " \r\n",
      "\r\n",
      "Let’s have a session to discuss the updates on the cognitive analytics projects. \r\n",
      "\r\n",
      "*\tUpdate / Feedback on Virtual Agent\r\n",
      "*\tAny other project update\r\n",
      "*\tEvalueserve’s accounts for GCP and Azure\r\n",
      "\r\n",
      " \r\n",
      "\r\n",
      "Let us know if you prefer other dates. I’m planning to use Microsoft Teams for this call.\r\n",
      "\r\n",
      "Thanks,\r\n",
      "\r\n",
      "Yoshi\r\n",
      "\r\n",
      " \r\n",
      "\r\n",
      "________________________________________________________________________________ \r\n",
      "\r\n",
      "Join Microsoft Teams Meeting <https://teams.microsoft.com/l/meetup-join/19%3ameeting_NjI4MmUyNGEtYjkwYy00N2VkLTlhOGMtM2FmMTU4ODM5OTJk%40thread.v2/0?context=%7b%22Tid%22%3a%220483ae51-a627-466e-a7dd-de2ac7e1238e%22%2c%22Oid%22%3a%229cf4b39b-fad9-4ced-b1a2-88e6d74efdf7%22%7d>  \r\n",
      "\r\n",
      "Learn more about Teams <https://aka.ms/JoinTeamsMeeting>  | Meeting options <https://teams.microsoft.com/meetingOptions/?organizerId=9cf4b39b-fad9-4ced-b1a2-88e6d74efdf7&tenantId=0483ae51-a627-466e-a7dd-de2ac7e1238e&threadId=19_meeting_NjI4MmUyNGEtYjkwYy00N2VkLTlhOGMtM2FmMTU4ODM5OTJk@thread.v2&messageId=0&language=en-US>  \r\n",
      "\r\n",
      "________________________________________________________________________________ \r\n",
      "\r\n",
      " \r\n",
      "\n"
     ]
    }
   ],
   "source": [
    "outlook = win32com.client.Dispatch(\"Outlook.Application\").GetNamespace(\"MAPI\")\n",
    "\n",
    "inbox = outlook.GetDefaultFolder(6) # \"6\" refers to the index of a folder - in this case,\n",
    "                                    # the inbox. You can change that number to reference\n",
    "                                    # any other folder\n",
    "messages = inbox.Items\n",
    "message = messages.GetLast()\n",
    "body_content = message.body\n",
    "print(body_content)"
   ]
  },
  {
   "cell_type": "code",
   "execution_count": 171,
   "metadata": {},
   "outputs": [],
   "source": [
    "# outlook = win32com.client.Dispatch(\"Outlook.Application\")\n",
    "# mapi = outlook.GetNamespace(\"MAPI\")\n",
    "\n",
    "# #your_folder = mapi.Folders['Outlook_Mails'].Folders['Inbox']"
   ]
  },
  {
   "cell_type": "code",
   "execution_count": 185,
   "metadata": {},
   "outputs": [],
   "source": [
    "outlook = win32com.client.Dispatch(\"Outlook.Application\")\n",
    "mapi = outlook.GetNamespace(\"MAPI\")\n",
    "\n",
    "inbox_folder = mapi.Folders['Yoshiyuki.Igarashi@evalueserve.com'].Folders['Inbox']\n",
    "\n",
    "messages = inbox_folder.Items\n",
    "message = messages.GetLast()"
   ]
  },
  {
   "cell_type": "code",
   "execution_count": 186,
   "metadata": {},
   "outputs": [],
   "source": [
    "#messages.GetLast().subject\n",
    "\n",
    "#messages.GetPrevious().subject\n",
    "\n",
    "#messages.GetNext().subject"
   ]
  },
  {
   "cell_type": "code",
   "execution_count": 187,
   "metadata": {},
   "outputs": [],
   "source": [
    "destination = mapi.Folders['jianhui.ben@evalueserve.com'].Folders['Inbox'].Folders['Cognitive Internal Projects'].Folders['NLC_Demo'].Folders['Operation']\n"
   ]
  },
  {
   "cell_type": "code",
   "execution_count": 188,
   "metadata": {},
   "outputs": [],
   "source": [
    "#message = messages.GetPrevious()\n",
    "try:\n",
    "    message.Move(destination)\n",
    "except:\n",
    "    print('copied')"
   ]
  },
  {
   "cell_type": "code",
   "execution_count": null,
   "metadata": {},
   "outputs": [],
   "source": []
  },
  {
   "cell_type": "code",
   "execution_count": 103,
   "metadata": {},
   "outputs": [],
   "source": [
    "import os"
   ]
  },
  {
   "cell_type": "code",
   "execution_count": 113,
   "metadata": {},
   "outputs": [
    {
     "data": {
      "text/plain": [
       "'Information Security Advisory: Phishing - 22 November 2019.msg'"
      ]
     },
     "execution_count": 113,
     "metadata": {},
     "output_type": "execute_result"
    }
   ],
   "source": [
    "str(message.subject) + \".msg\""
   ]
  },
  {
   "cell_type": "code",
   "execution_count": 114,
   "metadata": {},
   "outputs": [
    {
     "data": {
      "text/plain": [
       "'Information Security Advisory: Phishing - 22 November 2019.msg'"
      ]
     },
     "execution_count": 114,
     "metadata": {},
     "output_type": "execute_result"
    }
   ],
   "source": [
    "email_subject"
   ]
  },
  {
   "cell_type": "code",
   "execution_count": 121,
   "metadata": {},
   "outputs": [
    {
     "name": "stdout",
     "output_type": "stream",
     "text": [
      " <https://s3-eu-west-1.amazonaws.com/ip-ep-ftcom/manual-editor/breaking-news-header-420.png> \t\r\n",
      "Israeli PM Benjamin Netanyahu charged in corruption cases \t\r\n",
      "Israeli prime minister Benjamin Netanyahu will be charged by Israeli prosecutors as part of a corruption probe, said a spokesman for Israel's justice ministry.\r\n",
      "\r\n",
      "Mr Netanyahu, a four-time premier, is to be charged with bribery in one case, and with fraud and breach of trust in all three cases investigated by the police and the attorney-general’s office, the spokesman said.\r\n",
      "\r\n",
      "Click here <https://click.newsletters.ft.com/f/content-e1b4cd08-0c78-11ea-bb52-34c8d9dc6d84/nBeVp6kZzs3gHPLMh6Xzqg~~/AAAAAQA~/RgRfuUS6P0SPaHR0cHM6Ly93d3cuZnQuY29tL2NvbnRlbnQvZTFiNGNkMDgtMGM3OC0xMWVhLWJiNTItMzRjOGQ5ZGM2ZDg0P2VtYWlsSWQ9NWRkNmJkZDExY2MwMTYwMDA0YWE1ZTg3JnNlZ21lbnRJZD0zZDA4YmU2Mi0zMTVmLTczMzAtNWJiZC1hZjMzZGM1MzFhY2JXCGZpbnRpbWVzQgoAJe2_1l2HWRv9Uhlmc3JhbGVpZ2hAZXZhbHVlc2VydmUuY29tWAQAAAAA>  to read more.\r\n",
      "\r\n",
      " <https://click.newsletters.ft.com/f/a/3oJOYwgh-xHiwEreuIkE4g~~/AAAAAQA~/RgRfuUS6P0S7aHR0cDovL2xpLmZ0LmNvbS9jbGljaz9lbWFpbElkPTVkZDZiZGQxMWNjMDE2MDAwNGFhNWU4NyZzZWdtZW50SWQ9M2QwOGJlNjItMzE1Zi03MzMwLTViYmQtYWYzM2RjNTMxYWNiJnM9MTc4MzA0JnN6PTMwMHgyNTAmbGk9YnJlYWtpbmctbmV3cyZlPWZzcmFsZWlnaCU0MGV2YWx1ZXNlcnZlLmNvbSZwPTY0NDkwOTY3NzMyNzU0MlcIZmludGltZXNCCgAl7b_WXYdZG_1SGWZzcmFsZWlnaEBldmFsdWVzZXJ2ZS5jb21YBAAAAAA~> \t\r\n",
      " <http://li.ft.com/imp?s=178305&sz=1x1&li=breaking-news&e=fsraleigh@evalueserve.com&p=644909677327542> \t <http://li.ft.com/imp?s=178306&sz=1x1&li=breaking-news&e=fsraleigh@evalueserve.com&p=644909677327542> \t\r\n",
      " <https://click.newsletters.ft.com/f/a/RKv9E6mbPfu6Doa2RNfbtw~~/AAAAAQA~/RgRfuUS6P0S6aHR0cDovL2xpLmZ0LmNvbS9jbGljaz9lbWFpbElkPTVkZDZiZGQxMWNjMDE2MDAwNGFhNWU4NyZzZWdtZW50SWQ9M2QwOGJlNjItMzE1Zi03MzMwLTViYmQtYWYzM2RjNTMxYWNiJnM9MTc2MzcwJnN6PTExNngxNSZsaT1icmVha2luZy1uZXdzJmU9ZnNyYWxlaWdoJTQwZXZhbHVlc2VydmUuY29tJnA9NjQ0OTA5Njc3MzI3NTQyVwhmaW50aW1lc0IKACXtv9Zdh1kb_VIZZnNyYWxlaWdoQGV2YWx1ZXNlcnZlLmNvbVgEAAAAAA~~> \t <https://click.newsletters.ft.com/f/a/RUPWvWSPcFdQc-TnyzLebw~~/AAAAAQA~/RgRfuUS6P0S5aHR0cDovL2xpLmZ0LmNvbS9jbGljaz9lbWFpbElkPTVkZDZiZGQxMWNjMDE2MDAwNGFhNWU4NyZzZWdtZW50SWQ9M2QwOGJlNjItMzE1Zi03MzMwLTViYmQtYWYzM2RjNTMxYWNiJnM9MTc2MzcxJnN6PTY5eDE1JmxpPWJyZWFraW5nLW5ld3MmZT1mc3JhbGVpZ2glNDBldmFsdWVzZXJ2ZS5jb20mcD02NDQ5MDk2NzczMjc1NDJXCGZpbnRpbWVzQgoAJe2_1l2HWRv9Uhlmc3JhbGVpZ2hAZXZhbHVlc2VydmUuY29tWAQAAAAA> \t\r\n",
      " <http://li.ft.com/imp?s=124279500&sz=2x1&li=breaking-news&e=fsraleigh@evalueserve.com&p=644909677327542> \t <http://li.ft.com/imp?s=124279501&sz=2x1&li=breaking-news&e=fsraleigh@evalueserve.com&p=644909677327542> \t <http://li.ft.com/imp?s=124279502&sz=2x1&li=breaking-news&e=fsraleigh@evalueserve.com&p=644909677327542> \t <http://li.ft.com/imp?s=124279503&sz=2x1&li=breaking-news&e=fsraleigh@evalueserve.com&p=644909677327542> \t <http://li.ft.com/imp?s=124279504&sz=2x1&li=breaking-news&e=fsraleigh@evalueserve.com&p=644909677327542> \t <http://li.ft.com/imp?s=124279505&sz=2x1&li=breaking-news&e=fsraleigh@evalueserve.com&p=644909677327542> \t <http://li.ft.com/imp?s=124279506&sz=2x1&li=breaking-news&e=fsraleigh@evalueserve.com&p=644909677327542> \t <http://li.ft.com/imp?s=124279507&sz=2x1&li=breaking-news&e=fsraleigh@evalueserve.com&p=644909677327542> \t <http://li.ft.com/imp?s=124279508&sz=2x1&li=breaking-news&e=fsraleigh@evalueserve.com&p=644909677327542> \t <http://li.ft.com/imp?s=124279509&sz=2x1&li=breaking-news&e=fsraleigh@evalueserve.com&p=644909677327542> \t <http://li.ft.com/imp?s=124279510&sz=2x1&li=breaking-news&e=fsraleigh@evalueserve.com&p=644909677327542> \t <http://li.ft.com/imp?s=124279511&sz=2x1&li=breaking-news&e=fsraleigh@evalueserve.com&p=644909677327542> \t <http://li.ft.com/imp?s=124279512&sz=2x1&li=breaking-news&e=fsraleigh@evalueserve.com&p=644909677327542> \t <http://li.ft.com/imp?s=124279513&sz=2x1&li=breaking-news&e=fsraleigh@evalueserve.com&p=644909677327542> \t <http://li.ft.com/imp?s=124279514&sz=2x1&li=breaking-news&e=fsraleigh@evalueserve.com&p=644909677327542> \t <http://li.ft.com/imp?s=124279515&sz=2x1&li=breaking-news&e=fsraleigh@evalueserve.com&p=644909677327542> \t <http://li.ft.com/imp?s=124279516&sz=2x1&li=breaking-news&e=fsraleigh@evalueserve.com&p=644909677327542> \t <http://li.ft.com/imp?s=124279517&sz=2x1&li=breaking-news&e=fsraleigh@evalueserve.com&p=644909677327542> \t <http://li.ft.com/imp?s=124279518&sz=2x1&li=breaking-news&e=fsraleigh@evalueserve.com&p=644909677327542> \t <http://li.ft.com/imp?s=124279519&sz=2x1&li=breaking-news&e=fsraleigh@evalueserve.com&p=644909677327542> \t\r\n",
      " <https://click.newsletters.ft.com/f/a/9YKN1HCXFo1gV00BnOsNIQ~~/AAAAAQA~/RgRfuUS6P0QiaHR0cHM6Ly90d2l0dGVyLmNvbS9maW5hbmNpYWx0aW1lc1cIZmludGltZXNCCgAl7b_WXYdZG_1SGWZzcmFsZWlnaEBldmFsdWVzZXJ2ZS5jb21YBAAAAAA~> \t <https://click.newsletters.ft.com/f/a/z93Wb-hqf7RLIvb-2eaogA~~/AAAAAQA~/RgRfuUS6P0QnaHR0cHM6Ly93d3cuZmFjZWJvb2suY29tL2ZpbmFuY2lhbHRpbWVzVwhmaW50aW1lc0IKACXtv9Zdh1kb_VIZZnNyYWxlaWdoQGV2YWx1ZXNlcnZlLmNvbVgEAAAAAA~~> \t <https://click.newsletters.ft.com/f/a/e84ggWGr-VnygMsOlYmCzw~~/AAAAAQA~/RgRfuUS6P0QvaHR0cDovL3d3dy5saW5rZWRpbi5jb20vY29tcGFueS9maW5hbmNpYWwtdGltZXNXCGZpbnRpbWVzQgoAJe2_1l2HWRv9Uhlmc3JhbGVpZ2hAZXZhbHVlc2VydmUuY29tWAQAAAAA> \t <https://click.newsletters.ft.com/f/a/B9Z7kGP_TbtJrztB6WUyPA~~/AAAAAQA~/RgRfuUS6P0QpaHR0cHM6Ly93d3cuaW5zdGFncmFtLmNvbS9maW5hbmNpYWx0aW1lcy9XCGZpbnRpbWVzQgoAJe2_1l2HWRv9Uhlmc3JhbGVpZ2hAZXZhbHVlc2VydmUuY29tWAQAAAAA> \t\r\n",
      "\r\n",
      "Manage the emails you receive in your Contact Preferences <https://click.newsletters.ft.com/f/a/Kgggxn-OlsOR711WGxYjbw~~/AAAAAQA~/RgRfuUS6P0RvaHR0cHM6Ly93d3cuZnQuY29tL215ZnQvYWxlcnRzLz9lbWFpbElkPTVkZDZiZGQxMWNjMDE2MDAwNGFhNWU4NyZzZWdtZW50SWQ9M2QwOGJlNjItMzE1Zi03MzMwLTViYmQtYWYzM2RjNTMxYWNiVwhmaW50aW1lc0IKACXtv9Zdh1kb_VIZZnNyYWxlaWdoQGV2YWx1ZXNlcnZlLmNvbVgEAAAAAA~~> \r\n",
      "\r\n",
      "Unsubscribe from this newsletter. <https://click.newsletters.ft.com/f/a/_09q9EQVIAXcSTKNmIfUvw~~/AAAAAQA~/RgRfuUS6PxREimh0dHBzOi8vdW5zdWJzY3JpYmUuZnQuY29tL25ld3NsZXR0ZXI_ZW1haWxJZD01ZGQ2YmRkMTFjYzAxNjAwMDRhYTVlODcmc2VnbWVudElkPTNkMDhiZTYyLTMxNWYtNzMzMC01YmJkLWFmMzNkYzUzMWFjYiZuYW1lPUJyZWFraW5nJTIwTmV3c1cIZmludGltZXNCCgAl7b_WXYdZG_1SGWZzcmFsZWlnaEBldmFsdWVzZXJ2ZS5jb21YBAAAAAA~> \r\n",
      "\r\n",
      "Terms & Conditions <https://click.newsletters.ft.com/f/a/i18wcfyEz3T5Nk5iKj2eDw~~/AAAAAQA~/RgRfuUS6P0STaHR0cDovL2hlbHAuZnQuY29tL2xlZ2FsL2Z0LWNvbS10ZXJtcy1hbmQtY29uZGl0aW9ucy8_ZW1haWxJZD01ZGQ2YmRkMTFjYzAxNjAwMDRhYTVlODcmc2VnbWVudElkPTNkMDhiZTYyLTMxNWYtNzMzMC01YmJkLWFmMzNkYzUzMWFjYiNheHp6NENDcEdOS1EyVwhmaW50aW1lc0IKACXtv9Zdh1kb_VIZZnNyYWxlaWdoQGV2YWx1ZXNlcnZlLmNvbVgEAAAAAA~~>  Privacy policy <https://click.newsletters.ft.com/f/a/dh66DEG8Rooy9szSFLDDxw~~/AAAAAQA~/RgRfuUS6P0SWaHR0cDovL2hlbHAuZnQuY29tL2xlZ2FsL2ZpbmFuY2lhbC10aW1lcy1wcml2YWN5LXBvbGljeS8_ZW1haWxJZD01ZGQ2YmRkMTFjYzAxNjAwMDRhYTVlODcmc2VnbWVudElkPTNkMDhiZTYyLTMxNWYtNzMzMC01YmJkLWFmMzNkYzUzMWFjYiNheHp6NERYdWJSc2REVwhmaW50aW1lc0IKACXtv9Zdh1kb_VIZZnNyYWxlaWdoQGV2YWx1ZXNlcnZlLmNvbVgEAAAAAA~~>  Contact us <https://click.newsletters.ft.com/f/a/DfgQYurwwBGTHB0QwnuI0g~~/AAAAAQA~/RgRfuUS6P0RzaHR0cDovL2hlbHAuZnQuY29tL2hlbHAvY29udGFjdC11cy8_ZW1haWxJZD01ZGQ2YmRkMTFjYzAxNjAwMDRhYTVlODcmc2VnbWVudElkPTNkMDhiZTYyLTMxNWYtNzMzMC01YmJkLWFmMzNkYzUzMWFjYlcIZmludGltZXNCCgAl7b_WXYdZG_1SGWZzcmFsZWlnaEBldmFsdWVzZXJ2ZS5jb21YBAAAAAA~>  \r\n",
      "\r\n",
      "We use pixels in HTML emails (not in plain text emails) to tell us if the email is opened or links in it are clicked on. The pixel will be deleted if you delete the email. See our cookie policy <https://click.newsletters.ft.com/f/a/7MAqsNpNeTHdZTP84jRG1w~~/AAAAAQA~/RgRfuUS6P0R_aHR0cHM6Ly9oZWxwLmZ0LmNvbS9oZWxwL2xlZ2FsLXByaXZhY3kvY29va2llcy8_ZW1haWxJZD01ZGQ2YmRkMTFjYzAxNjAwMDRhYTVlODcmc2VnbWVudElkPTNkMDhiZTYyLTMxNWYtNzMzMC01YmJkLWFmMzNkYzUzMWFjYlcIZmludGltZXNCCgAl7b_WXYdZG_1SGWZzcmFsZWlnaEBldmFsdWVzZXJ2ZS5jb21YBAAAAAA~>  for more information.\r\n",
      "\r\n",
      "© THE FINANCIAL TIMES LTD 2019\r\n",
      "\r\n",
      "This email was sent by a company owned by Financial Times Group Limited (FT Group), registered office at Bracken House, 1 Friday Street, London EC4M 9BT. Registered in England and Wales with company number 879531.\r\n",
      "\r\n",
      "To view this email as a webpage, click here <https://click.newsletters.ft.com/f/a/lVypaKO3yvEcQZ-u2ncOHw~~/AAAAAQA~/RgRfuUS6P0S_aHR0cHM6Ly9lcC5mdC5jb20vcGVybWFsaW5rL2VtYWlscy9leUpsYldGcGJDSTZJbVprWTJVd01EUXhNVFE0WW1Jd05tVXhPVFE1TW1VelptUXpOekZrWXpjMVpqWXhZMkZsTnpZNU5qRmtabVk0WkRnMklpd2lkSEpoYm5OaFkzUnBiMjVKWkNJNkltWTVOVFJsTldOa0xUTmlaR1F0TkRoa1lpMWlaRFEzTFRBeU0yUTVORGc1T0RBM09TSjlXCGZpbnRpbWVzQgoAJe2_1l2HWRv9Uhlmc3JhbGVpZ2hAZXZhbHVlc2VydmUuY29tWAQAAAAA> \t \r\n",
      " <https://click.newsletters.ft.com/q/knoA1nrzwhKouiPnEbrlZg~~/AAAAAQA~/RgRfuUS6PlcIZmludGltZXNCCgAl7b_WXYdZG_1SGWZzcmFsZWlnaEBldmFsdWVzZXJ2ZS5jb21YBAAAAAA~> \n"
     ]
    }
   ],
   "source": [
    "import re\n",
    "message = messages.GetPrevious()\n",
    "print(message.body)\n",
    "\n",
    "subject = message.subject\n",
    "name = re.sub('[^A-Za-z0-9]+', '', subject)+'.msg'\n",
    "#email_subject = str(message.subject) + \".msg\"\n",
    "message.SaveAs(os.getcwd()+'//..//output//' + name)"
   ]
  },
  {
   "cell_type": "code",
   "execution_count": null,
   "metadata": {},
   "outputs": [],
   "source": []
  },
  {
   "cell_type": "code",
   "execution_count": 84,
   "metadata": {},
   "outputs": [
    {
     "data": {
      "text/plain": [
       "<COMObject <unknown>>"
      ]
     },
     "execution_count": 84,
     "metadata": {},
     "output_type": "execute_result"
    }
   ],
   "source": [
    "destination"
   ]
  },
  {
   "cell_type": "code",
   "execution_count": 59,
   "metadata": {},
   "outputs": [],
   "source": [
    "cnt = 0\n",
    "message_list = list()\n",
    "for i in range(len(messages)-1,len(messages)-10,-1):\n",
    "    message_list.append(messages[i])\n"
   ]
  },
  {
   "cell_type": "code",
   "execution_count": 60,
   "metadata": {},
   "outputs": [
    {
     "name": "stdout",
     "output_type": "stream",
     "text": [
      "Modernize Your Data Warehouse and Analytics Stack\n",
      "RE: Thanksgiving Food Drive\n",
      "RE: Raleigh Office Sluggish Internet\n",
      "Data health checks, Musk's Mad Max Cybertruck, 2019's best tech books, Twitter hides replies\n",
      "FW: Year-end Assessment 2019 Launched!\n",
      "Raleigh Office Sluggish Internet\n",
      "Cupcakes in the kitchen!\n",
      "World News: Trump claims he saved Hong Kong from obliteration by China...\n",
      "FW: One City Plaza Parking Deck Access for tomorrow:  Saturday, November 22nd\n"
     ]
    }
   ],
   "source": [
    "for message in message_list:\n",
    "    print(message)\n",
    "    #print(message.body)"
   ]
  },
  {
   "cell_type": "code",
   "execution_count": null,
   "metadata": {},
   "outputs": [],
   "source": []
  },
  {
   "cell_type": "code",
   "execution_count": null,
   "metadata": {},
   "outputs": [],
   "source": []
  },
  {
   "cell_type": "code",
   "execution_count": null,
   "metadata": {},
   "outputs": [],
   "source": []
  },
  {
   "cell_type": "code",
   "execution_count": 7,
   "metadata": {},
   "outputs": [],
   "source": [
    "def emailleri_al(folder):\n",
    "    messages = folder.Items\n",
    "    a=len(messages)\n",
    "    if a>0:\n",
    "        for message2 in messages:\n",
    "            try:\n",
    "                sender = message2.SenderEmailAddress\n",
    "                if sender != \"\":\n",
    "                    print(sender, file=f)\n",
    "            except:\n",
    "                print(\"Ben hatayım\")\n",
    "                print(account.DeliveryStore.DisplayName)\n",
    "                pass\n",
    "\n",
    "            try:\n",
    "                message2.Save\n",
    "                message2.Close(0)\n",
    "            except:\n",
    "                 pass\n"
   ]
  },
  {
   "cell_type": "code",
   "execution_count": null,
   "metadata": {},
   "outputs": [],
   "source": []
  }
 ],
 "metadata": {
  "kernelspec": {
   "display_name": "Python 3",
   "language": "python",
   "name": "python3"
  },
  "language_info": {
   "codemirror_mode": {
    "name": "ipython",
    "version": 3
   },
   "file_extension": ".py",
   "mimetype": "text/x-python",
   "name": "python",
   "nbconvert_exporter": "python",
   "pygments_lexer": "ipython3",
   "version": "3.7.1"
  }
 },
 "nbformat": 4,
 "nbformat_minor": 2
}
